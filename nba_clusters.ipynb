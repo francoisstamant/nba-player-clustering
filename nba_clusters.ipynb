{
 "cells": [
  {
   "cell_type": "code",
   "execution_count": null,
   "metadata": {},
   "outputs": [],
   "source": [
    "import pandas as pd\n",
    "pd.set_option('display.max_rows', None)\n",
    "import matplotlib.pyplot as plt\n",
    "from sklearn.preprocessing import MinMaxScaler\n",
    "from sklearn.cluster import KMeans\n",
    "from sklearn.metrics import silhouette_score\n",
    "import plotly.graph_objects as go"
   ]
  },
  {
   "cell_type": "code",
   "execution_count": null,
   "metadata": {},
   "outputs": [],
   "source": [
    "df=pd.read_csv(r'C:\\Users\\st-am\\OneDrive\\Documents\\Data analytics\\nba_shooting\\nba_shooting.csv',sep=';',\\\n",
    "               skipinitialspace=(True))"
   ]
  },
  {
   "cell_type": "markdown",
   "metadata": {},
   "source": [
    "### Data cleaning"
   ]
  },
  {
   "cell_type": "code",
   "execution_count": null,
   "metadata": {
    "scrolled": true
   },
   "outputs": [],
   "source": [
    "#Remove unwanted -\n",
    "for i in range(4,29):\n",
    "    df=df[df.iloc[:,i] != '#VALEUR!']\n",
    "\n",
    "df = df.reset_index(drop=True)\n",
    "    \n",
    "#Fix height value\n",
    "for i in range(len(df)):\n",
    "    df['HEIGHT'][i] = df['HEIGHT'][i].replace(\"'\", \".\")\n",
    "\n",
    "#Change data type to float\n",
    "df[df.columns[2:29]] = df[df.columns[2:29]].astype(float)\n",
    "\n",
    "\n",
    "#Select players with at least 15min per game\n",
    "df=df[df.MINUTES > 12]\n",
    "df = df.reset_index(drop=True)"
   ]
  },
  {
   "cell_type": "markdown",
   "metadata": {},
   "source": [
    "### Feature creation "
   ]
  },
  {
   "cell_type": "code",
   "execution_count": null,
   "metadata": {},
   "outputs": [],
   "source": [
    "#Add some variables (for future analysis)\n",
    "\n",
    "shot_attempts=df.filter(regex='FGA').sum(axis=1)\n",
    "df['SHOTS']=shot_attempts\n",
    "\n",
    "shots_perimeter = df.filter(regex='3_FGA').sum(axis=1)"
   ]
  },
  {
   "cell_type": "code",
   "execution_count": null,
   "metadata": {},
   "outputs": [],
   "source": [
    "df['CLOSE%']=df['PAINT_FGA']/df['SHOTS']\n",
    "df['MID_RANGE%']=df['MR_FGA']/df['SHOTS']\n",
    "df['PERIMETER%']=shots_perimeter/df['SHOTS']\n",
    "df['REBOUNDS']=df['OREB']+df['DREB']"
   ]
  },
  {
   "cell_type": "code",
   "execution_count": null,
   "metadata": {},
   "outputs": [],
   "source": [
    "df.shape"
   ]
  },
  {
   "cell_type": "code",
   "execution_count": null,
   "metadata": {},
   "outputs": [],
   "source": [
    "df.head()"
   ]
  },
  {
   "cell_type": "markdown",
   "metadata": {},
   "source": [
    "### Player clustering"
   ]
  },
  {
   "cell_type": "code",
   "execution_count": null,
   "metadata": {},
   "outputs": [],
   "source": [
    "data = df.iloc[:,5:34]\n",
    "scaled_data = MinMaxScaler().fit_transform(data)"
   ]
  },
  {
   "cell_type": "code",
   "execution_count": null,
   "metadata": {},
   "outputs": [],
   "source": [
    "#Find best number of clusters\n",
    "sil = []\n",
    "kmax = 12\n",
    "my_range=range(6,kmax+1)\n",
    "\n",
    "for i in my_range:\n",
    "    kmeans = KMeans(n_clusters = i).fit(scaled_data)\n",
    "    labels = kmeans.labels_\n",
    "    sil.append(silhouette_score(scaled_data, labels, metric = 'euclidean'))"
   ]
  },
  {
   "cell_type": "code",
   "execution_count": null,
   "metadata": {},
   "outputs": [],
   "source": [
    "#Plot it\n",
    "plt.plot(my_range, sil, 'bx-')\n",
    "plt.xlabel('k')\n",
    "plt.ylabel('Silhouette Score')\n",
    "plt.title('Silhouette Score by K')\n",
    "plt.show()"
   ]
  },
  {
   "cell_type": "code",
   "execution_count": null,
   "metadata": {},
   "outputs": [],
   "source": [
    "#Proceed with best number of clusters\n",
    "algo = KMeans(n_clusters=7, random_state=123)\n",
    "algo.fit(scaled_data)\n",
    "\n",
    "df['LABELS']=algo.labels_"
   ]
  },
  {
   "cell_type": "markdown",
   "metadata": {},
   "source": [
    "### ANALYSIS"
   ]
  },
  {
   "cell_type": "code",
   "execution_count": null,
   "metadata": {},
   "outputs": [],
   "source": [
    "#Analyze labels\n",
    "clusters=pd.DataFrame(columns=(df.iloc[:,2:34]).columns)\n",
    "\n",
    "for i in range(0,7):\n",
    "    a=df[df['LABELS']==i].mean()\n",
    "    clusters=clusters.append(a, ignore_index=True)"
   ]
  },
  {
   "cell_type": "code",
   "execution_count": null,
   "metadata": {
    "scrolled": true
   },
   "outputs": [],
   "source": [
    "df[df['LABELS']==6]"
   ]
  },
  {
   "cell_type": "code",
   "execution_count": null,
   "metadata": {},
   "outputs": [],
   "source": [
    "cluster_comparison = clusters[['LABELS','MINUTES','PPG','AST','REBOUNDS','CLOSE%','MID_RANGE%','PERIMETER%',\n",
    "                              'DRIVES','POSTUPS','CATCH_SHOOT']].round(2)\n",
    "cluster_comparison"
   ]
  },
  {
   "cell_type": "markdown",
   "metadata": {},
   "source": [
    "### PLOTS"
   ]
  },
  {
   "cell_type": "code",
   "execution_count": null,
   "metadata": {},
   "outputs": [],
   "source": [
    "good_teams=['LAL','LAC','MIL','BOS','TOR','HOU','MIA','DEN']\n",
    "\n",
    "a=df[df['TEAM'].isin(good_teams)]\n",
    "b=df[~df['TEAM'].isin(good_teams)]"
   ]
  },
  {
   "cell_type": "code",
   "execution_count": null,
   "metadata": {},
   "outputs": [],
   "source": [
    "#Good teams computations\n",
    "test=pd.DataFrame(a['LABELS'].value_counts().sort_index()).transpose().reset_index(drop=True)\n",
    "test=test/8\n",
    "r=test.iloc[0]"
   ]
  },
  {
   "cell_type": "code",
   "execution_count": null,
   "metadata": {},
   "outputs": [],
   "source": [
    "test.columns = ['Cluster' + str(col) for col in test.columns]\n",
    "cat1 = ['Stretch Players', 'High Usage Bigs', 'Low Usage Bigs', 'Ball Dominant Scorers', 'Versatile Rotation Players',\n",
    "       'High Quality Contributors', 'Athletic Forwards']"
   ]
  },
  {
   "cell_type": "code",
   "execution_count": null,
   "metadata": {},
   "outputs": [],
   "source": [
    "#Rest of the league\n",
    "test2=pd.DataFrame(b['LABELS'].value_counts().sort_index()).transpose().reset_index(drop=True)\n",
    "test2=test2/22\n",
    "r2=test2.iloc[0]"
   ]
  },
  {
   "cell_type": "code",
   "execution_count": null,
   "metadata": {},
   "outputs": [],
   "source": [
    "#Radar plot\n",
    "fig=go.Figure()\n",
    "fig.add_trace(go.Scatterpolar(r=r, theta=cat1,fill='toself',name='Good Teams'))\n",
    "fig.add_trace(go.Scatterpolar(r=r2, theta=cat1,fill='toself',name='Other Teams'))\n",
    "fig.show()"
   ]
  },
  {
   "cell_type": "code",
   "execution_count": null,
   "metadata": {},
   "outputs": [],
   "source": []
  }
 ],
 "metadata": {
  "kernelspec": {
   "display_name": "Python 3",
   "language": "python",
   "name": "python3"
  },
  "language_info": {
   "codemirror_mode": {
    "name": "ipython",
    "version": 3
   },
   "file_extension": ".py",
   "mimetype": "text/x-python",
   "name": "python",
   "nbconvert_exporter": "python",
   "pygments_lexer": "ipython3",
   "version": "3.8.3"
  }
 },
 "nbformat": 4,
 "nbformat_minor": 4
}
